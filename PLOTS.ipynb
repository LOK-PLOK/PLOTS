{
 "cells": [
  {
   "cell_type": "markdown",
   "id": "7df48942-e67e-4df6-8447-76b5e463c999",
   "metadata": {},
   "source": [
    "# Assignment "
   ]
  },
  {
   "cell_type": "markdown",
   "id": "b5e200ae-b1a6-437f-a690-eab58116b494",
   "metadata": {},
   "source": [
    "Hello! And SURPRISE, Imagine I am your micromanager, and you are my employees and like all micro-managers I demand time from your weekends, so here is your work assignment.\n",
    "\n",
    "You are given three datasets:\n",
    "\n",
    " - bar_assignment.csv\n",
    " - sankey_assignment.csv\n",
    " - networks_assignment.csv\n",
    "\n",
    "\n",
    "**General Instructions** : Use the same font and font size for all graphs.\n",
    "Instructions:\n",
    "\n",
    "### a. For Bar Graph:\n",
    "\n",
    "Create a horizontal stacked bar chart\n",
    "Transform 1 into “Yes” and 0 into “No”\n",
    "Follow the plot specification for bar plot\n",
    "\n",
    "### b. For Sankey Diagram:\n",
    "\n",
    "Create a Sankey Diagram that connects ('PS', 'OMP', 'CNP', 'NRP', 'NMCCC', 'PEC', 'NCDM', 'RGS') to the LABELS to ('Reg', 'Aca', 'Oth')\n",
    "Follow the Path Specifications\n",
    "\n",
    "\n",
    "### C. Network Graph\n",
    "\n",
    "Create the network graph\n",
    "D,F,I,N,S should created as a pentagram located at the center of the graph showing connection with each other.\n",
    "The others should be outside of the the pentagram, still showing connections to other nodes.\n",
    "The node color should be:\n",
    "\n",
    "Blue: [D,F,I,N,S], Green: ['BIH', 'GEO', 'ISR', 'MNE', 'SRB', 'CHE', 'TUR', 'UKR', 'GBR', 'AUS', 'HKG', 'USA’], Yellow: ['AUT', 'BEL', 'BGR', 'HRV', 'CZE', 'EST', 'FRA', 'DEU', 'GRC', 'HUN', 'IRL', 'ITA', 'LVA', 'LUX', 'NLD', 'PRT', 'ROU', 'SVK', 'SVN', 'ESP']\n",
    "\n",
    "\n",
    " #### Finally you are required to collate the separate graph into one single graph for printing, the single graph should be visible when copy pasted in a long bond paper.\n"
   ]
  },
  {
   "cell_type": "code",
   "execution_count": null,
   "id": "4a018e74-3f7f-4742-87a9-7c6298258204",
   "metadata": {},
   "outputs": [],
   "source": []
  },
  {
   "cell_type": "code",
   "execution_count": null,
   "id": "2c61651b-23cf-4ddc-9644-feebd19a5a1a",
   "metadata": {},
   "outputs": [],
   "source": []
  }
 ],
 "metadata": {
  "kernelspec": {
   "display_name": "Python 3 (ipykernel)",
   "language": "python",
   "name": "python3"
  },
  "language_info": {
   "codemirror_mode": {
    "name": "ipython",
    "version": 3
   },
   "file_extension": ".py",
   "mimetype": "text/x-python",
   "name": "python",
   "nbconvert_exporter": "python",
   "pygments_lexer": "ipython3",
   "version": "3.13.1"
  }
 },
 "nbformat": 4,
 "nbformat_minor": 5
}
